{
  "nbformat": 4,
  "nbformat_minor": 0,
  "metadata": {
    "colab": {
      "provenance": [],
      "include_colab_link": true
    },
    "kernelspec": {
      "name": "python3",
      "display_name": "Python 3"
    },
    "language_info": {
      "name": "python"
    }
  },
  "cells": [
    {
      "cell_type": "markdown",
      "metadata": {
        "id": "view-in-github",
        "colab_type": "text"
      },
      "source": [
        "<a href=\"https://colab.research.google.com/github/shashanksrajak/lava-iitg-2025/blob/main/intro2pytorch.ipynb\" target=\"_parent\"><img src=\"https://colab.research.google.com/assets/colab-badge.svg\" alt=\"Open In Colab\"/></a>"
      ]
    },
    {
      "cell_type": "code",
      "execution_count": null,
      "metadata": {
        "id": "lMXRXBMk5HHr"
      },
      "outputs": [],
      "source": [
        "import torch"
      ]
    },
    {
      "cell_type": "markdown",
      "source": [
        "#**Tensor Initialization**"
      ],
      "metadata": {
        "id": "W_tzgDk_96oD"
      }
    },
    {
      "cell_type": "code",
      "source": [
        "\n",
        "device = \"cuda\" if torch.cuda.is_available() else \"cpu\"\n",
        "\n",
        "torch_tensor = torch.tensor([[1,2,3],[4,5,6]], dtype = torch.float32, device = device, requires_grad = True)\n",
        "print(torch_tensor)"
      ],
      "metadata": {
        "colab": {
          "base_uri": "https://localhost:8080/"
        },
        "id": "D7NlkG705OfM",
        "outputId": "ab66ee31-5058-4a86-89e4-da1c18b13127"
      },
      "execution_count": null,
      "outputs": [
        {
          "output_type": "stream",
          "name": "stdout",
          "text": [
            "tensor([[1., 2., 3.],\n",
            "        [4., 5., 6.]], requires_grad=True)\n"
          ]
        }
      ]
    },
    {
      "cell_type": "code",
      "source": [
        "X1 = torch.empty((2,2)),\n",
        "print(\"X1 is:\",X1)\n",
        "\n",
        "X2 = torch.rand((2,2))\n",
        "print(\"X2 is:\",X2)\n",
        "\n",
        "X3 = torch.empty((2,2)).uniform_(0,1)\n",
        "print(\"X3 is:\",X3)\n",
        "\n",
        "X4 = torch.ones((2,2))\n",
        "print(\" X4 is:\",X4)\n",
        "\n",
        "X5 = torch.zeros((2,2))\n",
        "print(\"X5 is:\",X5)\n",
        "\n",
        "X6 = torch.eye(2,2)\n",
        "print(\" X6 is:\",X6)\n",
        "\n",
        "X7 = torch.diag(torch.ones((2)))\n",
        "print(\"X7 is:\",X7)\n",
        "\n",
        "X8 = torch.arange(start=0,end=5, step=1)\n",
        "print(\"type of X8 is:\",X8)\n",
        "\n",
        "X9 = torch.linspace(start=0.1, end=1, steps=10)\n",
        "print(\"type of X9 is:\",X9)"
      ],
      "metadata": {
        "colab": {
          "base_uri": "https://localhost:8080/"
        },
        "id": "7JJBvdTG6UOx",
        "outputId": "e32fe5cc-d573-446b-9d09-a25ef6d59577"
      },
      "execution_count": null,
      "outputs": [
        {
          "output_type": "stream",
          "name": "stdout",
          "text": [
            "X1 is: (tensor([[0.1368, 0.0000],\n",
            "        [0.1369, 0.0000]]),)\n",
            "X2 is: tensor([[0.3660, 0.9877],\n",
            "        [0.7756, 0.6506]])\n",
            "X3 is: tensor([[0.5533, 0.7428],\n",
            "        [0.5259, 0.1660]])\n",
            " X4 is: tensor([[1., 1.],\n",
            "        [1., 1.]])\n",
            "X5 is: tensor([[0., 0.],\n",
            "        [0., 0.]])\n",
            " X6 is: tensor([[1., 0.],\n",
            "        [0., 1.]])\n",
            "X7 is: tensor([[1., 0.],\n",
            "        [0., 1.]])\n",
            "type of X8 is: tensor([0, 1, 2, 3, 4])\n",
            "type of X9 is: tensor([0.1000, 0.2000, 0.3000, 0.4000, 0.5000, 0.6000, 0.7000, 0.8000, 0.9000,\n",
            "        1.0000])\n"
          ]
        }
      ]
    },
    {
      "cell_type": "code",
      "source": [
        "X1 = torch.empty(5,5) # dtype = int-32\n",
        "print(\"type of X1 is:\", X1.dtype)\n",
        "\n",
        "X2 = X1.bool()            # Convert into binary form\n",
        "print(\"type of X2 is:\",X2.dtype)\n",
        "\n",
        "X3 = X1.short()           # Convert into dtype int-16\n",
        "print(\"type of X3 is:\",X3.dtype)\n",
        "\n",
        "X4 = X1.long()            # Convert into dtype int-64\n",
        "print(\"type of X4 is:\",X4.dtype)\n",
        "\n",
        "X5 = X1.half()            # Convert into dtype float-16\n",
        "print(\"type of X5 is:\",X5.dtype)\n",
        "\n",
        "X6 = X1.float()           # Convert into dtype float-32\n",
        "print(\"type of X6 is:\",X6.dtype)\n",
        "\n",
        "X7 = X1.double()          # Convert into dtype float-64\n",
        "print(\"type of X7 is:\",X7.dtype)"
      ],
      "metadata": {
        "colab": {
          "base_uri": "https://localhost:8080/"
        },
        "id": "MVF4JgNw7oKY",
        "outputId": "4ee2846c-a419-4230-8b47-d356f77d7b70"
      },
      "execution_count": null,
      "outputs": [
        {
          "output_type": "stream",
          "name": "stdout",
          "text": [
            "type of X1 is: torch.float32\n",
            "type of X2 is: torch.bool\n",
            "type of X3 is: torch.int16\n",
            "type of X4 is: torch.int64\n",
            "type of X5 is: torch.float16\n",
            "type of X6 is: torch.float32\n",
            "type of X7 is: torch.float64\n"
          ]
        }
      ]
    },
    {
      "cell_type": "markdown",
      "source": [
        "# **Tensor Maths**"
      ],
      "metadata": {
        "id": "H_y2ky90CvXm"
      }
    },
    {
      "cell_type": "code",
      "source": [
        "X1 = torch.tensor([1,2,3])\n",
        "X2 = torch.tensor([4,5,6])\n",
        "\n",
        "#Addition:\n",
        "Z = X1 + X2\n",
        "Z = torch.add(X1, X2)\n",
        "print(\"Addition is:\",Z)\n",
        "\n",
        "#Inplace operation:\n",
        "X2 += X1\n",
        "print(\"Addition inplace is:\", X2)\n",
        "\n",
        "X1 = torch.tensor([1,2,3])\n",
        "X2 = torch.tensor([4,5,6])\n",
        "X2 = X2.add(X1)\n",
        "print(\"Addition inplace is:\", X2)\n",
        "\n",
        "#Subraction:\n",
        "Z = X1 - X2\n",
        "print(\"The subraction is:\",Z)\n",
        "\n",
        "#Division:\n",
        "Z = torch.true_divide( X1, X2)\n",
        "print(\"The division is:\",Z)\n",
        "\n",
        "#Exponential:\n",
        "Z = X1.pow(2)\n",
        "Z = X1 ** 2\n",
        "print(Z)\n"
      ],
      "metadata": {
        "colab": {
          "base_uri": "https://localhost:8080/"
        },
        "id": "LymBa8uNCrvM",
        "outputId": "571ee58b-ac98-4806-a427-2dbc08017142"
      },
      "execution_count": null,
      "outputs": [
        {
          "output_type": "stream",
          "name": "stdout",
          "text": [
            "Addition is: tensor([5, 7, 9])\n",
            "Addition inplace is: tensor([5, 7, 9])\n",
            "Addition inplace is: tensor([5, 7, 9])\n",
            "The subraction is: tensor([-4, -5, -6])\n",
            "The division is: tensor([0.2000, 0.2857, 0.3333])\n",
            "tensor([1, 4, 9])\n"
          ]
        }
      ]
    },
    {
      "cell_type": "code",
      "source": [
        "X1 = torch.tensor([[1,2,3],[1,2,3]])\n",
        "X2 = torch.tensor([[1,2],[1,2],[1,2]])\n",
        "\n",
        "#Metrix Multiplication:\n",
        "Z = torch.mm(X1, X2)\n",
        "print(\"The product is:\",Z)\n",
        "Z = X1.mm(X2)\n",
        "print(\"The product is:\",Z)\n",
        "\n",
        "#Element-wise Multiplication:\n",
        "X1 = torch.tensor([1,2,3])\n",
        "X2 = torch.tensor([1,2,3])\n",
        "Z = X1 * X2\n",
        "print(\"The element-wise product is:\", Z)\n",
        "\n",
        "#Dot product:\n",
        "Z = torch.dot(X1, X2)\n",
        "print(\"The dot product is:\",Z)\n",
        "\n",
        "#Batch Metrix Multiplication:\n",
        "batch = 2\n",
        "a = 3\n",
        "b = 5\n",
        "c = 4\n",
        "X1 = torch.rand((batch, a, b))\n",
        "X2 = torch.rand((batch, b, c))\n",
        "Z = torch.bmm(X1,X2)\n",
        "print(\"The product os batch multiplication is:\",Z.shape)"
      ],
      "metadata": {
        "colab": {
          "base_uri": "https://localhost:8080/"
        },
        "id": "jC5saPn1Epcq",
        "outputId": "029c3787-4085-4450-b1c8-4379af1bd6d2"
      },
      "execution_count": null,
      "outputs": [
        {
          "output_type": "stream",
          "name": "stdout",
          "text": [
            "The product is: tensor([[ 6, 12],\n",
            "        [ 6, 12]])\n",
            "The product is: tensor([[ 6, 12],\n",
            "        [ 6, 12]])\n",
            "The element-wise product is: tensor([1, 4, 9])\n",
            "The dot product is: tensor(14)\n",
            "The product os batch multiplication is: torch.Size([2, 3, 4])\n"
          ]
        }
      ]
    },
    {
      "cell_type": "code",
      "source": [
        "X1 = torch.tensor([1,2,3])\n",
        "X2 = torch.tensor([4,5,6])\n",
        "indices, values = torch.max(X1, dim=0)\n",
        "print(\"The indice and value is:\", (indices, values))\n",
        "indices = torch.argmax(X1, dim=0)\n",
        "print(\"The indice is:\", indices)"
      ],
      "metadata": {
        "colab": {
          "base_uri": "https://localhost:8080/"
        },
        "id": "qNE6VJ8gHWMs",
        "outputId": "90e838e2-3d6b-4125-e89f-00424075b41e"
      },
      "execution_count": null,
      "outputs": [
        {
          "output_type": "stream",
          "name": "stdout",
          "text": [
            "The indice and value is: (tensor(3), tensor(2))\n",
            "The indice is: tensor(2)\n"
          ]
        }
      ]
    },
    {
      "cell_type": "markdown",
      "source": [
        "## **Tensor Indexing**"
      ],
      "metadata": {
        "id": "bejMwu6jtjFT"
      }
    },
    {
      "cell_type": "code",
      "source": [
        "batch_size = 2\n",
        "features = 5\n",
        "x = torch.rand(batch_size, features)\n",
        "z = x[0].shape     # Get the shape of first tensor\n",
        "print(z)\n",
        "z = x[:,0].shape   # Get the shape of all tensors at the first dimension\n",
        "print(z)\n",
        "\n",
        "#Conditional Formatting:\n",
        "Z = torch.arange(10)\n",
        "Z1 = Z[(Z>2) | (Z<8)]     # Get the elements greater than 2 and less than 8\n",
        "print(Z1)\n",
        "Z2 = Z[Z.remainder(2)==0] # Get the even numbered elements\n",
        "print(Z2)\n",
        "Z3 = torch.where(Z2>5, Z2, Z2*2)\n",
        "print(Z3)"
      ],
      "metadata": {
        "colab": {
          "base_uri": "https://localhost:8080/"
        },
        "id": "CsIHfOolttAu",
        "outputId": "1e0526a1-34bb-4315-b563-af1307e736f1"
      },
      "execution_count": null,
      "outputs": [
        {
          "output_type": "stream",
          "name": "stdout",
          "text": [
            "torch.Size([5])\n",
            "torch.Size([2])\n",
            "tensor([0, 1, 2, 3, 4, 5, 6, 7, 8, 9])\n",
            "tensor([0, 2, 4, 6, 8])\n",
            "tensor([0, 4, 8, 6, 8])\n"
          ]
        }
      ]
    },
    {
      "cell_type": "markdown",
      "source": [
        "## **Tensor Reshaping**"
      ],
      "metadata": {
        "id": "3td29iSzurMd"
      }
    },
    {
      "cell_type": "code",
      "source": [
        "X = torch.tensor([1,2,3,4])\n",
        "Z = X.view(2,2)    # When X is Contiguous\n",
        "print(Z)\n",
        "Z = X.reshape(2,2) # Idependent of Contiguous nature of X\n",
        "print(Z)"
      ],
      "metadata": {
        "colab": {
          "base_uri": "https://localhost:8080/"
        },
        "id": "jt9cR8Rxu2r6",
        "outputId": "97256854-0e57-4ed8-82b2-b004f4e7b16d"
      },
      "execution_count": null,
      "outputs": [
        {
          "output_type": "stream",
          "name": "stdout",
          "text": [
            "tensor([[1, 2],\n",
            "        [3, 4]])\n",
            "tensor([[1, 2],\n",
            "        [3, 4]])\n"
          ]
        }
      ]
    },
    {
      "cell_type": "code",
      "source": [
        "#Concatenation:\n",
        "X1 = torch.rand([2,4])\n",
        "X2 = torch.rand([2,4])\n",
        "Z1 = torch.cat((X1, X2), dim=0)\n",
        "print(Z1)\n",
        "Z2 = torch.cat((X1, X2), dim=1)\n",
        "print(Z2)\n",
        "T = torch.tensor([1,2,3])\n",
        "print(T.shape)\n",
        "T = T.view(1, 3)\n",
        "T = T.permute((1,0))\n",
        "print(T.shape)\n",
        "T = T.unsqueeze(0)\n",
        "print(T.shape)"
      ],
      "metadata": {
        "colab": {
          "base_uri": "https://localhost:8080/"
        },
        "id": "CTUJpB71xx4X",
        "outputId": "b099df4e-07b7-4129-a694-9b2691910d96"
      },
      "execution_count": null,
      "outputs": [
        {
          "output_type": "stream",
          "name": "stdout",
          "text": [
            "tensor([[0.8491, 0.3088, 0.2876, 0.1367],\n",
            "        [0.6807, 0.7460, 0.7489, 0.0600],\n",
            "        [0.3824, 0.7985, 0.5716, 0.3677],\n",
            "        [0.7039, 0.5320, 0.8889, 0.0513]])\n",
            "tensor([[0.8491, 0.3088, 0.2876, 0.1367, 0.3824, 0.7985, 0.5716, 0.3677],\n",
            "        [0.6807, 0.7460, 0.7489, 0.0600, 0.7039, 0.5320, 0.8889, 0.0513]])\n",
            "torch.Size([3])\n",
            "torch.Size([3, 1])\n",
            "torch.Size([1, 3, 1])\n"
          ]
        }
      ]
    },
    {
      "cell_type": "markdown",
      "source": [
        "**Connect us on LinkedIn: https://www.linkedin.com/in/suklav/**"
      ],
      "metadata": {
        "id": "QACCoTGlxwIC"
      }
    }
  ]
}