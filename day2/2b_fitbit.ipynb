{
 "cells": [
  {
   "cell_type": "markdown",
   "metadata": {},
   "source": [
    "# Steps prediction\n"
   ]
  },
  {
   "cell_type": "markdown",
   "metadata": {},
   "source": [
    "About fitbit dataset:\n",
    "    Fitbit Inc. is an American company known for its products of the same name, which are activity trackers, \n",
    "    wireless-enabled wearable technology devices that measure data such as the number of steps walked, heart rate, \n",
    "    quality of sleep, steps climbed, and other personal metrics. The first of these was the Fitbit Tracker."
   ]
  },
  {
   "cell_type": "markdown",
   "metadata": {},
   "source": [
    "For these example fitbit data of CSI member(Vivek rai :P) was collected. Here Machine learning is used to determine number of steps he walked\n",
    "(Count) based on Calories burned and Distance covered\n",
    "Since we want to \"PREDICT\" a missing attribute Regression is used for this example"
   ]
  },
  {
   "cell_type": "markdown",
   "metadata": {},
   "source": [
    "### import libraries\n",
    "Import all the required libraries at once"
   ]
  },
  {
   "cell_type": "code",
   "execution_count": 1,
   "metadata": {
    "collapsed": true
   },
   "outputs": [],
   "source": [
    "import numpy as np\n",
    "import pandas as p\n",
    "import matplotlib.pyplot as plt"
   ]
  },
  {
   "cell_type": "markdown",
   "metadata": {},
   "source": [
    "### Read CSV File (Containing fitbit dataset)"
   ]
  },
  {
   "cell_type": "code",
   "execution_count": null,
   "metadata": {
    "collapsed": true,
    "scrolled": true
   },
   "outputs": [],
   "source": [
    "!wget \"https://github.com/adityamoorthy2/Datasets_for_Summer_School/blob/main/fitbit_dataset.csv?raw=true\" -O fitbit_dataset.csv\n",
    "fitbit = p.read_csv(\"fitbit_dataset.csv\")"
   ]
  },
  {
   "cell_type": "code",
   "execution_count": 3,
   "metadata": {},
   "outputs": [
    {
     "data": {
      "text/html": [
       "<div>\n",
       "<style scoped>\n",
       "    .dataframe tbody tr th:only-of-type {\n",
       "        vertical-align: middle;\n",
       "    }\n",
       "\n",
       "    .dataframe tbody tr th {\n",
       "        vertical-align: top;\n",
       "    }\n",
       "\n",
       "    .dataframe thead th {\n",
       "        text-align: right;\n",
       "    }\n",
       "</style>\n",
       "<table border=\"1\" class=\"dataframe\">\n",
       "  <thead>\n",
       "    <tr style=\"text-align: right;\">\n",
       "      <th></th>\n",
       "      <th>time_offset</th>\n",
       "      <th>end_time</th>\n",
       "      <th>speed</th>\n",
       "      <th>pkg_name</th>\n",
       "      <th>start_time</th>\n",
       "      <th>count</th>\n",
       "      <th>sample_position_type</th>\n",
       "      <th>calorie</th>\n",
       "      <th>distance</th>\n",
       "      <th>datauuid</th>\n",
       "      <th>deviceuuid</th>\n",
       "      <th>update_time</th>\n",
       "      <th>create_time</th>\n",
       "    </tr>\n",
       "  </thead>\n",
       "  <tbody>\n",
       "    <tr>\n",
       "      <th>0</th>\n",
       "      <td>19800000</td>\n",
       "      <td>57:00.0</td>\n",
       "      <td>1.638889</td>\n",
       "      <td>com.sec.android.app.shealth</td>\n",
       "      <td>56:00.0</td>\n",
       "      <td>5</td>\n",
       "      <td>NaN</td>\n",
       "      <td>0.20</td>\n",
       "      <td>3.20</td>\n",
       "      <td>7ba6b7d2-519c-41f9-8706-d3edafa3b0fc</td>\n",
       "      <td>MdS75U+XxL</td>\n",
       "      <td>23:57.0</td>\n",
       "      <td>23:55.8</td>\n",
       "    </tr>\n",
       "    <tr>\n",
       "      <th>1</th>\n",
       "      <td>19800000</td>\n",
       "      <td>57:00.0</td>\n",
       "      <td>1.638889</td>\n",
       "      <td>com.sec.android.app.shealth</td>\n",
       "      <td>56:00.0</td>\n",
       "      <td>6</td>\n",
       "      <td>NaN</td>\n",
       "      <td>0.24</td>\n",
       "      <td>4.78</td>\n",
       "      <td>7ba6b7d2-519c-41f9-8706-d3edafa3b0fc</td>\n",
       "      <td>MdS75U+XxL</td>\n",
       "      <td>23:57.0</td>\n",
       "      <td>23:55.8</td>\n",
       "    </tr>\n",
       "    <tr>\n",
       "      <th>2</th>\n",
       "      <td>19800000</td>\n",
       "      <td>57:00.0</td>\n",
       "      <td>0.916667</td>\n",
       "      <td>com.sec.android.app.shealth</td>\n",
       "      <td>56:00.0</td>\n",
       "      <td>1</td>\n",
       "      <td>NaN</td>\n",
       "      <td>0.04</td>\n",
       "      <td>0.58</td>\n",
       "      <td>9568572f-f33d-43ed-8dbd-aa7033744b3d</td>\n",
       "      <td>MdS75U+XxL</td>\n",
       "      <td>23:55.8</td>\n",
       "      <td>23:55.8</td>\n",
       "    </tr>\n",
       "    <tr>\n",
       "      <th>3</th>\n",
       "      <td>19800000</td>\n",
       "      <td>53:00.0</td>\n",
       "      <td>2.888889</td>\n",
       "      <td>com.sec.android.app.shealth</td>\n",
       "      <td>52:00.0</td>\n",
       "      <td>25</td>\n",
       "      <td>NaN</td>\n",
       "      <td>2.74</td>\n",
       "      <td>22.26</td>\n",
       "      <td>a144cb82-f4b1-4011-ae2c-7c8754273558</td>\n",
       "      <td>MdS75U+XxL</td>\n",
       "      <td>23:55.8</td>\n",
       "      <td>23:55.8</td>\n",
       "    </tr>\n",
       "    <tr>\n",
       "      <th>4</th>\n",
       "      <td>19800000</td>\n",
       "      <td>57:00.0</td>\n",
       "      <td>1.694444</td>\n",
       "      <td>com.sec.android.app.shealth</td>\n",
       "      <td>56:00.0</td>\n",
       "      <td>12</td>\n",
       "      <td>NaN</td>\n",
       "      <td>0.48</td>\n",
       "      <td>8.85</td>\n",
       "      <td>88278acc-964a-44ca-a4d7-bf696804582f</td>\n",
       "      <td>MdS75U+XxL</td>\n",
       "      <td>23:55.8</td>\n",
       "      <td>23:55.8</td>\n",
       "    </tr>\n",
       "  </tbody>\n",
       "</table>\n",
       "</div>"
      ],
      "text/plain": [
       "   time_offset end_time     speed                     pkg_name start_time  \\\n",
       "0     19800000  57:00.0  1.638889  com.sec.android.app.shealth    56:00.0   \n",
       "1     19800000  57:00.0  1.638889  com.sec.android.app.shealth    56:00.0   \n",
       "2     19800000  57:00.0  0.916667  com.sec.android.app.shealth    56:00.0   \n",
       "3     19800000  53:00.0  2.888889  com.sec.android.app.shealth    52:00.0   \n",
       "4     19800000  57:00.0  1.694444  com.sec.android.app.shealth    56:00.0   \n",
       "\n",
       "   count  sample_position_type  calorie  distance  \\\n",
       "0      5                   NaN     0.20      3.20   \n",
       "1      6                   NaN     0.24      4.78   \n",
       "2      1                   NaN     0.04      0.58   \n",
       "3     25                   NaN     2.74     22.26   \n",
       "4     12                   NaN     0.48      8.85   \n",
       "\n",
       "                               datauuid  deviceuuid update_time create_time  \n",
       "0  7ba6b7d2-519c-41f9-8706-d3edafa3b0fc  MdS75U+XxL     23:57.0     23:55.8  \n",
       "1  7ba6b7d2-519c-41f9-8706-d3edafa3b0fc  MdS75U+XxL     23:57.0     23:55.8  \n",
       "2  9568572f-f33d-43ed-8dbd-aa7033744b3d  MdS75U+XxL     23:55.8     23:55.8  \n",
       "3  a144cb82-f4b1-4011-ae2c-7c8754273558  MdS75U+XxL     23:55.8     23:55.8  \n",
       "4  88278acc-964a-44ca-a4d7-bf696804582f  MdS75U+XxL     23:55.8     23:55.8  "
      ]
     },
     "execution_count": 3,
     "metadata": {},
     "output_type": "execute_result"
    }
   ],
   "source": [
    "fitbit.head()"
   ]
  },
  {
   "cell_type": "markdown",
   "metadata": {
    "collapsed": true
   },
   "source": [
    "### Select Input and Output features for our that dataSet (Value of X input and y output)\n"
   ]
  },
  {
   "cell_type": "code",
   "execution_count": 4,
   "metadata": {
    "collapsed": true
   },
   "outputs": [],
   "source": [
    "#Here we want to predict number of steps(Count) based on Calories consumed and distance covered.\n",
    "features = ['count','distance','speed']\n",
    "X = fitbit[features]\n",
    "y = fitbit['calorie']"
   ]
  },
  {
   "cell_type": "code",
   "execution_count": null,
   "metadata": {},
   "outputs": [],
   "source": []
  }
 ],
 "metadata": {
  "anaconda-cloud": {},
  "kernelspec": {
   "display_name": "fairtest",
   "language": "python",
   "name": "python3"
  },
  "language_info": {
   "codemirror_mode": {
    "name": "ipython",
    "version": 3
   },
   "file_extension": ".py",
   "mimetype": "text/x-python",
   "name": "python",
   "nbconvert_exporter": "python",
   "pygments_lexer": "ipython3",
   "version": "3.13.2"
  }
 },
 "nbformat": 4,
 "nbformat_minor": 1
}
